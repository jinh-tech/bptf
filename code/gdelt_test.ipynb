{
 "cells": [
  {
   "cell_type": "code",
   "execution_count": 1,
   "metadata": {
    "collapsed": true
   },
   "outputs": [],
   "source": [
    "import gdelt\n",
    "\n",
    "gd = gdelt.gdelt(version=2)\n",
    "\n",
    "results = gd.Search(['2016 10 19','2016 10 22'],table='events',coverage=True)"
   ]
  },
  {
   "cell_type": "code",
   "execution_count": 3,
   "metadata": {},
   "outputs": [
    {
     "name": "stdout",
     "output_type": "stream",
     "text": [
      "Index([u'GLOBALEVENTID', u'SQLDATE', u'MonthYear', u'Year', u'FractionDate',\n",
      "       u'Actor1Code', u'Actor1Name', u'Actor1CountryCode',\n",
      "       u'Actor1KnownGroupCode', u'Actor1EthnicCode', u'Actor1Religion1Code',\n",
      "       u'Actor1Religion2Code', u'Actor1Type1Code', u'Actor1Type2Code',\n",
      "       u'Actor1Type3Code', u'Actor2Code', u'Actor2Name', u'Actor2CountryCode',\n",
      "       u'Actor2KnownGroupCode', u'Actor2EthnicCode', u'Actor2Religion1Code',\n",
      "       u'Actor2Religion2Code', u'Actor2Type1Code', u'Actor2Type2Code',\n",
      "       u'Actor2Type3Code', u'IsRootEvent', u'EventCode',\n",
      "       u'CAMEOCodeDescription', u'EventBaseCode', u'EventRootCode',\n",
      "       u'QuadClass', u'GoldsteinScale', u'NumMentions', u'NumSources',\n",
      "       u'NumArticles', u'AvgTone', u'Actor1Geo_Type', u'Actor1Geo_FullName',\n",
      "       u'Actor1Geo_CountryCode', u'Actor1Geo_ADM1Code', u'Actor1Geo_ADM2Code',\n",
      "       u'Actor1Geo_Lat', u'Actor1Geo_Long', u'Actor1Geo_FeatureID',\n",
      "       u'Actor2Geo_Type', u'Actor2Geo_FullName', u'Actor2Geo_CountryCode',\n",
      "       u'Actor2Geo_ADM1Code', u'Actor2Geo_ADM2Code', u'Actor2Geo_Lat',\n",
      "       u'Actor2Geo_Long', u'Actor2Geo_FeatureID', u'ActionGeo_Type',\n",
      "       u'ActionGeo_FullName', u'ActionGeo_CountryCode', u'ActionGeo_ADM1Code',\n",
      "       u'ActionGeo_ADM2Code', u'ActionGeo_Lat', u'ActionGeo_Long',\n",
      "       u'ActionGeo_FeatureID', u'DATEADDED', u'SOURCEURL'],\n",
      "      dtype='object')\n"
     ]
    }
   ],
   "source": [
    "print results.columns"
   ]
  }
 ],
 "metadata": {
  "anaconda-cloud": {},
  "kernelspec": {
   "display_name": "Python [conda env:tensor_fac]",
   "language": "python",
   "name": "conda-env-tensor_fac-py"
  },
  "language_info": {
   "codemirror_mode": {
    "name": "ipython",
    "version": 2
   },
   "file_extension": ".py",
   "mimetype": "text/x-python",
   "name": "python",
   "nbconvert_exporter": "python",
   "pygments_lexer": "ipython2",
   "version": "2.7.13"
  }
 },
 "nbformat": 4,
 "nbformat_minor": 2
}
