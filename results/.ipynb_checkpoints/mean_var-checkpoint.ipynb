{
 "cells": [
  {
   "cell_type": "code",
   "execution_count": 1,
   "metadata": {
    "collapsed": true
   },
   "outputs": [],
   "source": [
    "import numpy\n",
    "from os import listdir\n",
    "from os.path import isdir, join,isfile\n",
    "import numpy as np\n",
    "import pandas"
   ]
  },
  {
   "cell_type": "code",
   "execution_count": null,
   "metadata": {
    "collapsed": true
   },
   "outputs": [],
   "source": [
    "index = [\"I_25\",\"G_25\",\"I_100\",\"G_100\",\"I_25c\",\"G_25c\",\"I_100c\",\"G_100c\"]\n",
    "columns = [\"sto_bptf_mae\",\"sto_bptf_mae_nz\",\"sto_hptf_mae\",\"sto_hptf_mae_nz\"]\n",
    "df = pd.DataFrame(index=index, columns=columns)"
   ]
  },
  {
   "cell_type": "code",
   "execution_count": 2,
   "metadata": {
    "collapsed": true
   },
   "outputs": [],
   "source": [
    "mypath = \".\"\n",
    "dirs = [f for f in listdir(mypath) if isdir(join(mypath, f)) and f[0]!='.']\n",
    "scores = {}\n",
    "for i in dirs:\n",
    "    mypath = i\n",
    "    files = [f for f in listdir(mypath) if \"sto\" in mypath and isfile(join(mypath, f))]\n",
    "    for j in files:\n",
    "        temp = np.loadtxt(join(mypath,j))\n",
    "        scores[join(mypath,j)] = [temp.mean(),temp.var()]\n",
    "#         df.set_values('index','col',temp.mean())"
   ]
  },
  {
   "cell_type": "code",
   "execution_count": 3,
   "metadata": {
    "collapsed": true
   },
   "outputs": [],
   "source": [
    "f = open(\"summary_sto2.txt\",'w')\n",
    "f.write(\"File Name \\t Mean \\t Variance\\n\")\n",
    "for key, value in scores.iteritems():\n",
    "    f.write(key+\" \\t \"+str(value[0])+\" \\t \"+str(value[1])+\"\\n\")\n",
    "f.close()"
   ]
  },
  {
   "cell_type": "code",
   "execution_count": null,
   "metadata": {
    "collapsed": true
   },
   "outputs": [],
   "source": [
    "f = open(\"summary_sto.txt\",'r')\n",
    "for line in f:\n",
    "    \n"
   ]
  }
 ],
 "metadata": {
  "kernelspec": {
   "display_name": "Python [default]",
   "language": "python",
   "name": "python2"
  },
  "language_info": {
   "codemirror_mode": {
    "name": "ipython",
    "version": 2
   },
   "file_extension": ".py",
   "mimetype": "text/x-python",
   "name": "python",
   "nbconvert_exporter": "python",
   "pygments_lexer": "ipython2",
   "version": "2.7.13"
  }
 },
 "nbformat": 4,
 "nbformat_minor": 2
}
