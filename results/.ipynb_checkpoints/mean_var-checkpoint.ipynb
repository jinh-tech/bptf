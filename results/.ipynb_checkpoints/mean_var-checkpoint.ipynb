{
 "cells": [
  {
   "cell_type": "code",
   "execution_count": 32,
   "metadata": {
    "collapsed": true
   },
   "outputs": [],
   "source": [
    "import numpy\n",
    "from os import listdir\n",
    "from os.path import isdir, join,isfile\n",
    "import numpy as np"
   ]
  },
  {
   "cell_type": "code",
   "execution_count": 34,
   "metadata": {},
   "outputs": [],
   "source": [
    "mypath = \".\"\n",
    "dirs = [f for f in listdir(mypath) if isdir(join(mypath, f)) and f[0]!='.']\n",
    "scores = {}\n",
    "for i in dirs:\n",
    "    mypath = i\n",
    "    files = [f for f in listdir(mypath) if isfile(join(mypath, f))]\n",
    "    for j in files:\n",
    "        temp = np.loadtxt(join(mypath,j))\n",
    "        scores[join(mypath,j)] = [temp.mean(),temp.var()]"
   ]
  },
  {
   "cell_type": "code",
   "execution_count": 36,
   "metadata": {},
   "outputs": [],
   "source": [
    "f = open(\"summary.txt\",'w')\n",
    "f.write(\"File Name \\t Mean \\t Variance\\n\")\n",
    "for key, value in scores.iteritems():\n",
    "    f.write(key+\" \\t \"+str(value[0])+\" \\t \"+str(value[1])+\"\\n\")\n",
    "f.close()"
   ]
  }
 ],
 "metadata": {
  "kernelspec": {
   "display_name": "Python [conda env:bml]",
   "language": "python",
   "name": "conda-env-bml-py"
  },
  "language_info": {
   "codemirror_mode": {
    "name": "ipython",
    "version": 2
   },
   "file_extension": ".py",
   "mimetype": "text/x-python",
   "name": "python",
   "nbconvert_exporter": "python",
   "pygments_lexer": "ipython2",
   "version": "2.7.13"
  }
 },
 "nbformat": 4,
 "nbformat_minor": 2
}
