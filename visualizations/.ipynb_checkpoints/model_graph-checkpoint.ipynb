{
 "cells": [
  {
   "cell_type": "code",
   "execution_count": 4,
   "metadata": {
    "collapsed": true
   },
   "outputs": [],
   "source": [
    "import numpy as np\n",
    "import matplotlib.pyplot as plt\n",
    "from matplotlib.gridspec import GridSpec\n",
    "import datetime\n",
    "import os"
   ]
  },
  {
   "cell_type": "code",
   "execution_count": 5,
   "metadata": {
    "collapsed": true
   },
   "outputs": [],
   "source": [
    "def plot():\n",
    "    for i in range(0,sender_mat.shape[1]):\n",
    "        sender = sender_mat[:,i]\n",
    "        receiv = receiv_mat[:,i]\n",
    "        action = action_mat[:,i]\n",
    "        time = time_mat[:,i]\n",
    "\n",
    "        ind_send = np.argsort(sender)\n",
    "        ind_send = ind_send[::-1][:10]\n",
    "        sender = sender[ind_send]\n",
    "        ind_rece = np.argsort(receiv)\n",
    "        ind_rece = ind_rece[::-1][:10]\n",
    "        receiv = receiv[ind_rece]\n",
    "        ind_acti = np.argsort(action)\n",
    "        ind_acti = ind_acti[::-1][:10]\n",
    "        action = action[ind_acti]\n",
    "\n",
    "        fig=plt.figure(figsize=(40,15))\n",
    "        gs=GridSpec(2,3)\n",
    "        ax1=fig.add_subplot(gs[0,:])\n",
    "        ax2=fig.add_subplot(gs[1,0])\n",
    "        ax3=fig.add_subplot(gs[1,1])\n",
    "        ax4=fig.add_subplot(gs[1,2])\n",
    "        \n",
    "        ax1.plot(time)\n",
    "        ax1.set_xticks(range(0,len(date)))\n",
    "        ax1.set_xticklabels(date,rotation=90)\n",
    "        \n",
    "        ax2.stem(sender,basefmt=\" \")\n",
    "        ax2.set_xticks(range(0,ind_send.size))\n",
    "        ax2.set_xticklabels(cont[ind_send].tolist(),rotation=0)    #change rotation to make sure labels dont overlap\n",
    "        \n",
    "        ax3.stem(receiv,basefmt=\" \")\n",
    "        ax3.set_xticks(range(0,ind_rece.size))\n",
    "        ax3.set_xticklabels(cont[ind_rece].tolist(),rotation=0)    #change required when dataset = icews\n",
    "        \n",
    "        ax4.stem(action,basefmt=\" \")\n",
    "        ax4.set_xticks(range(0,ind_acti.size))\n",
    "        ax4.set_xticklabels(acti[ind_acti].tolist(),rotation=45)\n",
    "        \n",
    "        plt.savefig(loc+\"k=\"+str(i)+\".pdf\", format='pdf')\n",
    "        plt.close('all')\n"
   ]
  },
  {
   "cell_type": "code",
   "execution_count": 6,
   "metadata": {},
   "outputs": [],
   "source": [
    "algos = [\"bptf\",\"hptf\",\"sto_bptf\",\"sto_hptf\"]\n",
    "datasets = [\"gdelt_aaron\",\"icews_aaron\"]\n",
    "for algo in algos:\n",
    "    for dataset in datasets:\n",
    "        model = np.load(\"../models/\"+dataset+\"_\"+algo+\"_k50.npz\")\n",
    "        cont = np.load(\"../data/\"+dataset+\"/\"+dataset+\".npz\")['actors']\n",
    "        acti = np.load(\"../data/\"+dataset+\"/\"+dataset+\".npz\")['actions']\n",
    "        date = np.load(\"../data/\"+dataset+\"/\"+dataset+\".npz\")['dates'].tolist()\n",
    "        date = [datetime.datetime.strptime(i, \"%Y-%m-%d\").strftime(\"%b-%y\") for i in date]\n",
    "        sender_mat = model['G_DK_M'][0]\n",
    "        receiv_mat = model['G_DK_M'][1]\n",
    "        action_mat = model['G_DK_M'][2]\n",
    "        time_mat = model['G_DK_M'][3]\n",
    "        loc = \"../visualizations/\"+dataset+\"_\"+algo+\"/\"\n",
    "        if not os.path.exists(loc):\n",
    "            os.makedirs(loc)\n",
    "        del model\n",
    "        plot()"
   ]
  },
  {
   "cell_type": "code",
   "execution_count": null,
   "metadata": {
    "collapsed": true
   },
   "outputs": [],
   "source": []
  }
 ],
 "metadata": {
  "kernelspec": {
   "display_name": "Python [conda env:bml]",
   "language": "python",
   "name": "conda-env-bml-py"
  },
  "language_info": {
   "codemirror_mode": {
    "name": "ipython",
    "version": 2
   },
   "file_extension": ".py",
   "mimetype": "text/x-python",
   "name": "python",
   "nbconvert_exporter": "python",
   "pygments_lexer": "ipython2",
   "version": "2.7.13"
  }
 },
 "nbformat": 4,
 "nbformat_minor": 2
}
