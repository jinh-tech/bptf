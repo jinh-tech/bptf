{
 "cells": [
  {
   "cell_type": "code",
   "execution_count": 1,
   "metadata": {
    "collapsed": true
   },
   "outputs": [],
   "source": [
    "import numpy as np\n",
    "import sktensor as skt"
   ]
  },
  {
   "cell_type": "code",
   "execution_count": 3,
   "metadata": {},
   "outputs": [],
   "source": [
    "awv_data = np.loadtxt('other_format_data/awv_vals.txt',dtype=np.int32)\n",
    "awv_x = np.loadtxt('other_format_data/awv_x.txt',dtype=np.int32)-1\n",
    "awv_y = np.loadtxt('other_format_data/awv_y.txt',dtype=np.int32)-1\n",
    "awv_z = np.loadtxt('other_format_data/awv_z.txt',dtype=np.int32)-1\n",
    "co_x = np.loadtxt('other_format_data/co_x.txt',dtype=np.int32)-1\n",
    "co_y = np.loadtxt('other_format_data/co_y.txt',dtype=np.int32)-1\n",
    "co_data = np.ones(co_y.size,dtype=np.int32)"
   ]
  },
  {
   "cell_type": "code",
   "execution_count": 16,
   "metadata": {},
   "outputs": [
    {
     "name": "stdout",
     "output_type": "stream",
     "text": [
      "(2370, 8663, 4066)\n",
      "(2370, 2370)\n"
     ]
    }
   ],
   "source": [
    "awv_ind = (awv_x,awv_y,awv_z)\n",
    "co_ind = (co_x,co_y)\n",
    "awv_shape = (int(max(awv_x)+1),int(max(awv_y)+1),int(max(awv_z)+1))\n",
    "print awv_shape\n",
    "co_shape = (awv_shape[0],awv_shape[0])\n",
    "print co_shape"
   ]
  },
  {
   "cell_type": "code",
   "execution_count": 4,
   "metadata": {},
   "outputs": [
    {
     "name": "stdout",
     "output_type": "stream",
     "text": [
      "1 704\n"
     ]
    }
   ],
   "source": [
    "print min(awv_data),max(awv_data)"
   ]
  },
  {
   "cell_type": "code",
   "execution_count": 17,
   "metadata": {
    "collapsed": true
   },
   "outputs": [],
   "source": [
    "sp_awv = skt.sptensor(awv_ind,awv_data,shape=awv_shape,dtype=np.int32)\n",
    "sp_co = skt.sptensor(co_ind,co_data,shape=co_shape,dtype=np.int32)"
   ]
  },
  {
   "cell_type": "code",
   "execution_count": 18,
   "metadata": {
    "collapsed": true
   },
   "outputs": [],
   "source": [
    "with open('duke_awv.npz', 'w+') as f:       # both arrays can be stored in a Numpy pickle dictionary\n",
    "    np.savez_compressed(f, awv=sp_awv, co=sp_co)"
   ]
  }
 ],
 "metadata": {
  "anaconda-cloud": {},
  "kernelspec": {
   "display_name": "Python [default]",
   "language": "python",
   "name": "python2"
  },
  "language_info": {
   "codemirror_mode": {
    "name": "ipython",
    "version": 2
   },
   "file_extension": ".py",
   "mimetype": "text/x-python",
   "name": "python",
   "nbconvert_exporter": "python",
   "pygments_lexer": "ipython2",
   "version": "2.7.12"
  }
 },
 "nbformat": 4,
 "nbformat_minor": 2
}
