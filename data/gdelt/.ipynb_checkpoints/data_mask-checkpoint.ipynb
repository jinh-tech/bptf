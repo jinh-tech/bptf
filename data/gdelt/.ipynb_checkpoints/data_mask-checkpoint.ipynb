{
 "cells": [
  {
   "cell_type": "code",
   "execution_count": 10,
   "metadata": {
    "collapsed": true
   },
   "outputs": [],
   "source": [
    "import pickle\n",
    "import numpy as np\n",
    "import sktensor as skt"
   ]
  },
  {
   "cell_type": "code",
   "execution_count": 11,
   "metadata": {
    "collapsed": true
   },
   "outputs": [],
   "source": [
    "temp_ind = np.loadtxt(\"non_zero_indices.txt\")\n",
    "vals = np.loadtxt(\"non_zero_values.txt\")\n",
    "num_non_zero = temp_ind.shape[0]\n",
    "data_shape = (220,220,20,52)"
   ]
  },
  {
   "cell_type": "code",
   "execution_count": 19,
   "metadata": {},
   "outputs": [],
   "source": [
    "indices = (np.empty((num_non_zero),dtype=np.int32), \\\n",
    "           np.empty((num_non_zero),dtype=np.int32),\\\n",
    "           np.empty((num_non_zero),dtype=np.int32))\n",
    "indices[0][:] = temp_ind[:,0]\n",
    "indices[1][:] = temp_ind[:,1]\n",
    "indices[2][:] = temp_ind[:,2]"
   ]
  },
  {
   "cell_type": "code",
   "execution_count": 20,
   "metadata": {},
   "outputs": [],
   "source": [
    "sp_data = skt.sptensor(indices,vals,shape=data_shape,dtype=np.float64)\n",
    "\n",
    "with open('gdelt_tensor.dat', 'w+') as f:\n",
    "    pickle.dump(sp_data, f)"
   ]
  },
  {
   "cell_type": "code",
   "execution_count": null,
   "metadata": {
    "collapsed": true
   },
   "outputs": [],
   "source": [
    "print indices.size[0]"
   ]
  }
 ],
 "metadata": {
  "kernelspec": {
   "display_name": "Python [conda env:bml]",
   "language": "python",
   "name": "conda-env-bml-py"
  },
  "language_info": {
   "codemirror_mode": {
    "name": "ipython",
    "version": 2
   },
   "file_extension": ".py",
   "mimetype": "text/x-python",
   "name": "python",
   "nbconvert_exporter": "python",
   "pygments_lexer": "ipython2",
   "version": "2.7.13"
  }
 },
 "nbformat": 4,
 "nbformat_minor": 2
}
