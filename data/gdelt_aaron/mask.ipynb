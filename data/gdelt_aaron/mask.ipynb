{
 "cells": [
  {
   "cell_type": "code",
   "execution_count": 1,
   "metadata": {
    "collapsed": true
   },
   "outputs": [],
   "source": [
    "import pickle\n",
    "import numpy as np"
   ]
  },
  {
   "cell_type": "code",
   "execution_count": 3,
   "metadata": {},
   "outputs": [
    {
     "name": "stdout",
     "output_type": "stream",
     "text": [
      "228\n"
     ]
    }
   ],
   "source": [
    "shape = np.load(\"gdelt_aaron.npz\")['Y'].shape\n",
    "actions = ['Make Statement', 'Appeal', 'Intend to Cooperate', 'Consult', 'Cooperate (Diplomatic)', 'Cooperate (Material)', 'Aid', 'Yield', 'Investigate', 'Demand', 'Disapprove', 'Reject', 'Threaten', 'Protest', 'Posture', 'Reduce Relations', 'Coerce', 'Assault', 'Fight', 'Engage in Mass Violence']\n",
    "T = shape[3]\n",
    "print T\n",
    "split = int(T/5) ## Train test split = 80/20"
   ]
  },
  {
   "cell_type": "code",
   "execution_count": 3,
   "metadata": {},
   "outputs": [
    {
     "name": "stdout",
     "output_type": "stream",
     "text": [
      "1\n",
      "2\n",
      "3\n",
      "4\n",
      "5\n",
      "6\n",
      "7\n",
      "8\n",
      "9\n",
      "10\n"
     ]
    }
   ],
   "source": [
    "for i in range(1,11):\n",
    "    print i\n",
    "    mask = np.ones(shape=shape)\n",
    "    ind = np.random.choice(T,size=split,replace=False)\n",
    "    for j in range(split):\n",
    "        mask[:,:,:,ind[j]] = 0\n",
    "    with open('train_mask'+str(i)+'.npz', 'w+') as f:       # both arrays can be stored in a Numpy pickle dictionary\n",
    "        np.savez(f, data=mask)"
   ]
  },
  {
   "cell_type": "code",
   "execution_count": 4,
   "metadata": {},
   "outputs": [
    {
     "name": "stdout",
     "output_type": "stream",
     "text": [
      "226764240\n"
     ]
    }
   ],
   "source": [
    "print mask.nonzero()[0].size"
   ]
  }
 ],
 "metadata": {
  "kernelspec": {
   "display_name": "Python [conda env:bml]",
   "language": "python",
   "name": "conda-env-bml-py"
  },
  "language_info": {
   "codemirror_mode": {
    "name": "ipython",
    "version": 2
   },
   "file_extension": ".py",
   "mimetype": "text/x-python",
   "name": "python",
   "nbconvert_exporter": "python",
   "pygments_lexer": "ipython2",
   "version": "2.7.13"
  }
 },
 "nbformat": 4,
 "nbformat_minor": 2
}
