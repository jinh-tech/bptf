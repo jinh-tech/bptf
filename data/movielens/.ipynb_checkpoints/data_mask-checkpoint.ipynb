{
 "cells": [
  {
   "cell_type": "code",
   "execution_count": 1,
   "metadata": {
    "collapsed": true
   },
   "outputs": [],
   "source": [
    "import pickle\n",
    "import numpy as np\n",
    "import sktensor as skt"
   ]
  },
  {
   "cell_type": "code",
   "execution_count": 2,
   "metadata": {
    "collapsed": true
   },
   "outputs": [],
   "source": [
    "mat = np.loadtxt(\"X.txt\")\n",
    "indices = np.nonzero(mat)\n",
    "vals = mat[indices]"
   ]
  },
  {
   "cell_type": "code",
   "execution_count": 6,
   "metadata": {
    "collapsed": true
   },
   "outputs": [],
   "source": [
    "sp_data = skt.sptensor(indices,vals,shape=mat.shape,dtype=np.int64)\n",
    "\n",
    "with open('movie_tensor.dat', 'w+') as f:\n",
    "    pickle.dump(sp_data, f)"
   ]
  },
  {
   "cell_type": "code",
   "execution_count": 4,
   "metadata": {},
   "outputs": [],
   "source": [
    "mask = np.ones_like(mat,dtype=np.int32)\n",
    "mask = skt.dtensor(mask)\n",
    "with open('trivial_mask.dat', 'w+') as f:      # can be stored as a .dat using pickle\n",
    "    pickle.dump(mask, f)"
   ]
  }
 ],
 "metadata": {
  "kernelspec": {
   "display_name": "Python [conda env:bml]",
   "language": "python",
   "name": "conda-env-bml-py"
  },
  "language_info": {
   "codemirror_mode": {
    "name": "ipython",
    "version": 2
   },
   "file_extension": ".py",
   "mimetype": "text/x-python",
   "name": "python",
   "nbconvert_exporter": "python",
   "pygments_lexer": "ipython2",
   "version": "2.7.13"
  }
 },
 "nbformat": 4,
 "nbformat_minor": 2
}
